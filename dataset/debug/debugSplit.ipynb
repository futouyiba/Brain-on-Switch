{
 "cells": [
  {
   "cell_type": "code",
   "execution_count": 1,
   "metadata": {},
   "outputs": [
    {
     "name": "stdout",
     "output_type": "stream",
     "text": [
      "WARNING: 3 flows ignored by pandas type conversion. Consider using to_csv() method if drops are critical.\n"
     ]
    }
   ],
   "source": [
    "raw_pcap_file  = '/mnt/gxy/minimodel/futou/Brain-on-Switch/dataset/unswnb15/source/neg/neg-1.pcap'\n",
    "# 下面所有说到流的时候，都是指source和destination可以对调的流，接近splitCap里的session概念\n",
    "# 用nfstream找到第一个包含packets超过40的流,再用splitCap把符合条件的流分割出来（判断五元组，但src和dst可以对调）\n",
    "\n",
    "import nfstream\n",
    "from nfstream import NFStreamer\n",
    "import os\n",
    "import subprocess\n",
    "import sys\n",
    "import time\n",
    "import pandas as pd\n",
    "from scapy.all import *\n",
    "\n",
    "# 使用nfStream解析pcap文件\n",
    "streamer = NFStreamer(source=raw_pcap_file)\n",
    "streams = streamer.to_pandas()\n",
    "\n",
    "# 第二步：找到包含packet数量大于20的第一条流\n",
    "stream = None\n",
    "for _, row in streams.iterrows():\n",
    "    if row['bidirectional_packets'] > 20:\n",
    "        stream = row\n",
    "        break\n",
    "\n",
    "if stream is None:\n",
    "    print(\"没有找到符合条件的流\")\n",
    "    exit()\n",
    "\n",
    "# 第三步：使用splitCap提取出这条流（src和dst可以对换）\n",
    "# 五元组\n",
    "src_ip = stream['src_ip']\n",
    "dst_ip = stream['dst_ip']\n",
    "src_port = stream['src_port']\n",
    "dst_port = stream['dst_port']\n",
    "protocol = stream['protocol']\n",
    "\n"
   ]
  },
  {
   "cell_type": "code",
   "execution_count": 5,
   "metadata": {},
   "outputs": [
    {
     "name": "stdout",
     "output_type": "stream",
     "text": [
      "Splitting pcap file into seperate pcap files...\n",
      "1%2%3%4%5%6%7%8%9%10%10%11%12%13%14%15%16%17%18%19%20%21%22%23%24%25%26%27%28%29%30%31%32%33%34%35%36%37%38%39%40%41%42%43%44%45%46%47%48%49%50%51%52%53%54%55%56%57%58%59%60%61%62%63%64%65%66%67%68%69%70%71%72%73%74%75%76%77%78%79%80%81%82%83%84%85%86%87%88%89%90%91%92%93%94%95%96%97%98%99%100%\n",
      "Please wait while closing all file handles...\n"
     ]
    },
    {
     "data": {
      "text/plain": [
       "0"
      ]
     },
     "execution_count": 5,
     "metadata": {},
     "output_type": "execute_result"
    }
   ],
   "source": [
    "splitFlowDir = '/mnt/gxy/minimodel/futou/Brain-on-Switch/dataset/unswnb15/splitFlow'\n",
    "splitTimeDir = '/mnt/gxy/minimodel/futou/Brain-on-Switch/dataset/unswnb15/splitTime'\n",
    "\n",
    "# 生成splitCap的命令\n",
    "os.system(f'./SplitCap.exe -r {raw_pcap_file} -s session -o {splitFlowDir}')\n",
    "# os.system(f'./SplitCap.exe -r {raw_pcap_file} -s nosplit -ip {src_ip} -ip {dst_ip} -port {src_port} -port {dst_port} -o {splitFlowDir}')"
   ]
  },
  {
   "cell_type": "code",
   "execution_count": null,
   "metadata": {},
   "outputs": [],
   "source": []
  }
 ],
 "metadata": {
  "language_info": {
   "name": "python"
  }
 },
 "nbformat": 4,
 "nbformat_minor": 2
}
